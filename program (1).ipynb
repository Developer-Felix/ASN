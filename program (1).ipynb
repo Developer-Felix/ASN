{
  "nbformat": 4,
  "nbformat_minor": 0,
  "metadata": {
    "colab": {
      "provenance": []
    },
    "kernelspec": {
      "name": "python3",
      "display_name": "Python 3"
    },
    "language_info": {
      "name": "python"
    }
  },
  "cells": [
    {
      "cell_type": "markdown",
      "source": [
        "Q1"
      ],
      "metadata": {
        "id": "zETiLYO9g_ia"
      }
    },
    {
      "cell_type": "code",
      "source": [
        "# construct the graph G\n",
        "V = [1,2,3,4]\n",
        "E = [(1,2),(2,3),(3,4),(1,4)]\n",
        "\n",
        "# construct the graph G'\n",
        "V1 = V + ['s','t']\n",
        "E1 = []\n",
        "\n",
        "# add edges (u,t) with weight wuv in G'\n",
        "for u,v in E:\n",
        "  wuv = 1\n",
        "  E1.append((u,'t',wuv))\n",
        "\n",
        "# add edges (s,u) with weight y in G'\n",
        "y = 1/(c-1)\n",
        "for u in V:\n",
        "  E1.append(('s',u,y))\n",
        "\n",
        "# construct the adjacency matrix\n",
        "A = [[0 for i in range(len(V))] for j in range(len(V))]\n",
        "for u,v in E:\n",
        "  A[u-1][v-1] = 1\n",
        "  A[v-1][u-1] = 1\n",
        "\n",
        "# construct the modularity matrix\n",
        "B = [[0 for i in range(len(V))] for j in range(len(V))]\n",
        "\n",
        "  # calculate degree of each node\n",
        "d = [0 for i in range(len(V))]\n",
        "for i in range(len(V)):\n",
        "  for j in range(len(V)):\n",
        "    d[i] += A[i][j]\n",
        "  \n",
        "  # calculate modularity matrix\n",
        "for i in range(len(V)):\n",
        "  for j in range(len(V)):\n",
        "     B[i][j] = A[i][j] - (d[i]*d[j])/(2*E)\n"
      ],
      "metadata": {
        "id": "k2xzFkH9hAlC"
      },
      "execution_count": 9,
      "outputs": []
    },
    {
      "cell_type": "markdown",
      "source": [
        "Q2"
      ],
      "metadata": {
        "id": "j5AXDVpugdeb"
      }
    },
    {
      "cell_type": "code",
      "source": [
        "# construct the graph G\n",
        "V = [1,2,3,4]\n",
        "E = [(1,2),(2,3),(3,4),(1,4)]\n",
        "\n",
        "# construct the graph G'\n",
        "V1 = V \n",
        "E1 = []\n",
        "\n",
        "# add edges (u,v) with weight -1 or +1 in G'\n",
        "for u,v in E:\n",
        "  wuv = -1\n",
        "  E1.append((u,v,wuv))\n",
        "\n",
        "# calculate maximum clique size\n",
        "c = len(V)\n",
        "\n",
        "# calculate weighted density of the densest subgraph\n",
        "p = c\n",
        "\n",
        "# if the weighted density is greater than c, then it must be a maximum clique\n",
        "if p > c:\n",
        "  print(\"The graph is a maximum clique.\")\n"
      ],
      "metadata": {
        "id": "MOiiexz5geoo"
      },
      "execution_count": 2,
      "outputs": []
    },
    {
      "cell_type": "markdown",
      "source": [
        "Q3"
      ],
      "metadata": {
        "id": "E-3NLQghgQou"
      }
    },
    {
      "cell_type": "code",
      "source": [
        "# Read file\n",
        "with open(\"com-amazon.txt\") as f:\n",
        "   lines = f.readlines()\n",
        "\n",
        "\n",
        "# Extract nodes and edges\n",
        "nodes, edges = map(int, lines[0].split())\n",
        "\n",
        "\n",
        "# Initialize an empty graph\n",
        "graph = [[] for _ in range(nodes)]\n",
        "\n",
        "\n",
        "# Build graph\n",
        "for line in lines[2:]:\n",
        "   u, v = map(int, line.split())\n",
        "   graph[u].append(v)\n",
        "   graph[v].append(u)\n",
        "\n",
        "\n",
        "# Calculate core numbers\n",
        "def core_num(graph):\n",
        "   core_nums = [0] * len(graph)\n",
        "\n",
        "\n",
        "   for u in range(len(graph)):\n",
        "       subgraph = []\n",
        "       k = 0\n",
        "       while True:\n",
        "           subgraph = [v for v in graph[u] if core_nums[v] >= k]\n",
        "           if len(subgraph) >= k:\n",
        "               core_nums[u] = k\n",
        "               k += 1\n",
        "           else:\n",
        "               break\n",
        "   return core_nums\n",
        "\n",
        "\n",
        "core_nums = core_num(graph)\n",
        "\n",
        "\n",
        "# Output core numbers to file\n",
        "with open(\"core_nums.txt\", \"w\") as f:\n",
        "   for u, c in enumerate(core_nums):\n",
        "       f.write(f\"{u}: {c}\\n\")\n"
      ],
      "metadata": {
        "id": "hLxeOIPzgOcZ"
      },
      "execution_count": null,
      "outputs": []
    }
  ]
}